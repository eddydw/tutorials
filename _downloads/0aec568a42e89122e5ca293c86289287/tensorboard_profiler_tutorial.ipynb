{
  "cells": [
    {
      "cell_type": "code",
      "execution_count": 1,
      "metadata": {
        "id": "fcrkO-jf-VPY"
      },
      "outputs": [],
      "source": [
        "# For tips on running notebooks in Google Colab, see\n",
        "# https://pytorch.org/tutorials/beginner/colab\n",
        "%matplotlib inline"
      ]
    },
    {
      "cell_type": "markdown",
      "metadata": {
        "id": "B-KNSoQR-VPa"
      },
      "source": [
        "PyTorch Profiler With TensorBoard\n",
        "=================================\n",
        "\n",
        "This tutorial demonstrates how to use TensorBoard plugin with PyTorch\n",
        "Profiler to detect performance bottlenecks of the model.\n",
        "\n",
        "<div style=\"background-color: #e94f3b; color: #fff; font-weight: 700; padding-left: 10px; padding-top: 5px; padding-bottom: 5px\"><strong>WARNING:</strong></div>\n",
        "\n",
        "<div style=\"background-color: #f3f4f7; padding-left: 10px; padding-top: 10px; padding-bottom: 10px; padding-right: 10px\">\n",
        "\n",
        "<p>The TensorBoard integration with the PyTorch profiler is nowdeprecated. Instead, use Perfetto or the Chrome trace toview <code>trace.json</code> files. After<a href=\"https://pytorch.org/tutorials/recipes/recipes/profiler_recipe.html#using-tracing-functionality\">generating a trace</a>,simply drag the <code>trace.json</code> into <a href=\"https://ui.perfetto.dev/\">Perfetto UI</a>or <code>chrome://tracing</code> to visualize your profile.</p>\n",
        "\n",
        "</div>\n",
        "\n",
        "Introduction\n",
        "------------\n",
        "\n",
        "PyTorch 1.8 includes an updated profiler API capable of recording the\n",
        "CPU side operations as well as the CUDA kernel launches on the GPU side.\n",
        "The profiler can visualize this information in TensorBoard Plugin and\n",
        "provide analysis of the performance bottlenecks.\n",
        "\n",
        "In this tutorial, we will use a simple Resnet model to demonstrate how\n",
        "to use TensorBoard plugin to analyze model performance.\n",
        "\n",
        "Setup\n",
        "-----\n",
        "\n",
        "To install `torch` and `torchvision` use the following command:\n",
        "\n",
        "``` {.}\n",
        "pip install torch torchvision\n",
        "```\n"
      ]
    },
    {
      "cell_type": "markdown",
      "metadata": {
        "id": "MiXtLXlE-VPb"
      },
      "source": [
        "Steps\n",
        "=====\n",
        "\n",
        "1.  Prepare the data and model\n",
        "2.  Use profiler to record execution events\n",
        "3.  Run the profiler\n",
        "4.  Use TensorBoard to view results and analyze model performance\n",
        "5.  Improve performance with the help of profiler\n",
        "6.  Analyze performance with other advanced features\n",
        "7.  Additional Practices: Profiling PyTorch on AMD GPUs\n",
        "\n",
        "1. Prepare the data and model\n",
        "-----------------------------\n",
        "\n",
        "First, import all necessary libraries:\n"
      ]
    },
    {
      "cell_type": "code",
      "execution_count": 2,
      "metadata": {
        "id": "P6-33bNB-VPb"
      },
      "outputs": [],
      "source": [
        "import torch\n",
        "import torch.nn\n",
        "import torch.optim\n",
        "import torch.profiler\n",
        "import torch.utils.data\n",
        "import torchvision.datasets\n",
        "import torchvision.models\n",
        "import torchvision.transforms as T"
      ]
    },
    {
      "cell_type": "markdown",
      "metadata": {
        "id": "oMBPwonT-VPb"
      },
      "source": [
        "Then prepare the input data. For this tutorial, we use the CIFAR10\n",
        "dataset. Transform it to the desired format and use `DataLoader` to load\n",
        "each batch.\n"
      ]
    },
    {
      "cell_type": "code",
      "execution_count": 3,
      "metadata": {
        "id": "k0Vvhx_l-VPb",
        "outputId": "01df8e28-e643-4444-ca2d-6785ee1da902",
        "colab": {
          "base_uri": "https://localhost:8080/"
        }
      },
      "outputs": [
        {
          "output_type": "stream",
          "name": "stderr",
          "text": [
            "100%|██████████| 170M/170M [00:02<00:00, 62.9MB/s]\n"
          ]
        }
      ],
      "source": [
        "transform = T.Compose(\n",
        "    [T.Resize(224),\n",
        "     T.ToTensor(),\n",
        "     T.Normalize((0.5, 0.5, 0.5), (0.5, 0.5, 0.5))])\n",
        "train_set = torchvision.datasets.CIFAR10(root='./data', train=True, download=True, transform=transform)\n",
        "train_loader = torch.utils.data.DataLoader(train_set, batch_size=32, shuffle=True)"
      ]
    },
    {
      "cell_type": "markdown",
      "metadata": {
        "id": "Xd_1jWXx-VPc"
      },
      "source": [
        "Next, create Resnet model, loss function, and optimizer objects. To run\n",
        "on GPU, move model and loss to GPU device.\n"
      ]
    },
    {
      "cell_type": "code",
      "execution_count": 4,
      "metadata": {
        "id": "T8AmuaxJ-VPc",
        "outputId": "0cc9c7ef-9cc6-4d61-e7b3-750d8c333f24",
        "colab": {
          "base_uri": "https://localhost:8080/"
        }
      },
      "outputs": [
        {
          "output_type": "stream",
          "name": "stderr",
          "text": [
            "Downloading: \"https://download.pytorch.org/models/resnet18-f37072fd.pth\" to /root/.cache/torch/hub/checkpoints/resnet18-f37072fd.pth\n",
            "100%|██████████| 44.7M/44.7M [00:00<00:00, 114MB/s]\n"
          ]
        },
        {
          "output_type": "execute_result",
          "data": {
            "text/plain": [
              "ResNet(\n",
              "  (conv1): Conv2d(3, 64, kernel_size=(7, 7), stride=(2, 2), padding=(3, 3), bias=False)\n",
              "  (bn1): BatchNorm2d(64, eps=1e-05, momentum=0.1, affine=True, track_running_stats=True)\n",
              "  (relu): ReLU(inplace=True)\n",
              "  (maxpool): MaxPool2d(kernel_size=3, stride=2, padding=1, dilation=1, ceil_mode=False)\n",
              "  (layer1): Sequential(\n",
              "    (0): BasicBlock(\n",
              "      (conv1): Conv2d(64, 64, kernel_size=(3, 3), stride=(1, 1), padding=(1, 1), bias=False)\n",
              "      (bn1): BatchNorm2d(64, eps=1e-05, momentum=0.1, affine=True, track_running_stats=True)\n",
              "      (relu): ReLU(inplace=True)\n",
              "      (conv2): Conv2d(64, 64, kernel_size=(3, 3), stride=(1, 1), padding=(1, 1), bias=False)\n",
              "      (bn2): BatchNorm2d(64, eps=1e-05, momentum=0.1, affine=True, track_running_stats=True)\n",
              "    )\n",
              "    (1): BasicBlock(\n",
              "      (conv1): Conv2d(64, 64, kernel_size=(3, 3), stride=(1, 1), padding=(1, 1), bias=False)\n",
              "      (bn1): BatchNorm2d(64, eps=1e-05, momentum=0.1, affine=True, track_running_stats=True)\n",
              "      (relu): ReLU(inplace=True)\n",
              "      (conv2): Conv2d(64, 64, kernel_size=(3, 3), stride=(1, 1), padding=(1, 1), bias=False)\n",
              "      (bn2): BatchNorm2d(64, eps=1e-05, momentum=0.1, affine=True, track_running_stats=True)\n",
              "    )\n",
              "  )\n",
              "  (layer2): Sequential(\n",
              "    (0): BasicBlock(\n",
              "      (conv1): Conv2d(64, 128, kernel_size=(3, 3), stride=(2, 2), padding=(1, 1), bias=False)\n",
              "      (bn1): BatchNorm2d(128, eps=1e-05, momentum=0.1, affine=True, track_running_stats=True)\n",
              "      (relu): ReLU(inplace=True)\n",
              "      (conv2): Conv2d(128, 128, kernel_size=(3, 3), stride=(1, 1), padding=(1, 1), bias=False)\n",
              "      (bn2): BatchNorm2d(128, eps=1e-05, momentum=0.1, affine=True, track_running_stats=True)\n",
              "      (downsample): Sequential(\n",
              "        (0): Conv2d(64, 128, kernel_size=(1, 1), stride=(2, 2), bias=False)\n",
              "        (1): BatchNorm2d(128, eps=1e-05, momentum=0.1, affine=True, track_running_stats=True)\n",
              "      )\n",
              "    )\n",
              "    (1): BasicBlock(\n",
              "      (conv1): Conv2d(128, 128, kernel_size=(3, 3), stride=(1, 1), padding=(1, 1), bias=False)\n",
              "      (bn1): BatchNorm2d(128, eps=1e-05, momentum=0.1, affine=True, track_running_stats=True)\n",
              "      (relu): ReLU(inplace=True)\n",
              "      (conv2): Conv2d(128, 128, kernel_size=(3, 3), stride=(1, 1), padding=(1, 1), bias=False)\n",
              "      (bn2): BatchNorm2d(128, eps=1e-05, momentum=0.1, affine=True, track_running_stats=True)\n",
              "    )\n",
              "  )\n",
              "  (layer3): Sequential(\n",
              "    (0): BasicBlock(\n",
              "      (conv1): Conv2d(128, 256, kernel_size=(3, 3), stride=(2, 2), padding=(1, 1), bias=False)\n",
              "      (bn1): BatchNorm2d(256, eps=1e-05, momentum=0.1, affine=True, track_running_stats=True)\n",
              "      (relu): ReLU(inplace=True)\n",
              "      (conv2): Conv2d(256, 256, kernel_size=(3, 3), stride=(1, 1), padding=(1, 1), bias=False)\n",
              "      (bn2): BatchNorm2d(256, eps=1e-05, momentum=0.1, affine=True, track_running_stats=True)\n",
              "      (downsample): Sequential(\n",
              "        (0): Conv2d(128, 256, kernel_size=(1, 1), stride=(2, 2), bias=False)\n",
              "        (1): BatchNorm2d(256, eps=1e-05, momentum=0.1, affine=True, track_running_stats=True)\n",
              "      )\n",
              "    )\n",
              "    (1): BasicBlock(\n",
              "      (conv1): Conv2d(256, 256, kernel_size=(3, 3), stride=(1, 1), padding=(1, 1), bias=False)\n",
              "      (bn1): BatchNorm2d(256, eps=1e-05, momentum=0.1, affine=True, track_running_stats=True)\n",
              "      (relu): ReLU(inplace=True)\n",
              "      (conv2): Conv2d(256, 256, kernel_size=(3, 3), stride=(1, 1), padding=(1, 1), bias=False)\n",
              "      (bn2): BatchNorm2d(256, eps=1e-05, momentum=0.1, affine=True, track_running_stats=True)\n",
              "    )\n",
              "  )\n",
              "  (layer4): Sequential(\n",
              "    (0): BasicBlock(\n",
              "      (conv1): Conv2d(256, 512, kernel_size=(3, 3), stride=(2, 2), padding=(1, 1), bias=False)\n",
              "      (bn1): BatchNorm2d(512, eps=1e-05, momentum=0.1, affine=True, track_running_stats=True)\n",
              "      (relu): ReLU(inplace=True)\n",
              "      (conv2): Conv2d(512, 512, kernel_size=(3, 3), stride=(1, 1), padding=(1, 1), bias=False)\n",
              "      (bn2): BatchNorm2d(512, eps=1e-05, momentum=0.1, affine=True, track_running_stats=True)\n",
              "      (downsample): Sequential(\n",
              "        (0): Conv2d(256, 512, kernel_size=(1, 1), stride=(2, 2), bias=False)\n",
              "        (1): BatchNorm2d(512, eps=1e-05, momentum=0.1, affine=True, track_running_stats=True)\n",
              "      )\n",
              "    )\n",
              "    (1): BasicBlock(\n",
              "      (conv1): Conv2d(512, 512, kernel_size=(3, 3), stride=(1, 1), padding=(1, 1), bias=False)\n",
              "      (bn1): BatchNorm2d(512, eps=1e-05, momentum=0.1, affine=True, track_running_stats=True)\n",
              "      (relu): ReLU(inplace=True)\n",
              "      (conv2): Conv2d(512, 512, kernel_size=(3, 3), stride=(1, 1), padding=(1, 1), bias=False)\n",
              "      (bn2): BatchNorm2d(512, eps=1e-05, momentum=0.1, affine=True, track_running_stats=True)\n",
              "    )\n",
              "  )\n",
              "  (avgpool): AdaptiveAvgPool2d(output_size=(1, 1))\n",
              "  (fc): Linear(in_features=512, out_features=1000, bias=True)\n",
              ")"
            ]
          },
          "metadata": {},
          "execution_count": 4
        }
      ],
      "source": [
        "device = torch.device(\"cuda:0\")\n",
        "model = torchvision.models.resnet18(weights='IMAGENET1K_V1').cuda(device)\n",
        "criterion = torch.nn.CrossEntropyLoss().cuda(device)\n",
        "optimizer = torch.optim.SGD(model.parameters(), lr=0.001, momentum=0.9)\n",
        "model.train()"
      ]
    },
    {
      "cell_type": "markdown",
      "metadata": {
        "id": "FPVDew7R-VPc"
      },
      "source": [
        "Define the training step for each batch of input data.\n"
      ]
    },
    {
      "cell_type": "code",
      "execution_count": 5,
      "metadata": {
        "id": "NxrbfH8H-VPc"
      },
      "outputs": [],
      "source": [
        "def train(data):\n",
        "    inputs, labels = data[0].to(device=device), data[1].to(device=device)\n",
        "    outputs = model(inputs)\n",
        "    loss = criterion(outputs, labels)\n",
        "    optimizer.zero_grad()\n",
        "    loss.backward()\n",
        "    optimizer.step()"
      ]
    },
    {
      "cell_type": "markdown",
      "metadata": {
        "id": "RW0SuYOc-VPc"
      },
      "source": [
        "2. Use profiler to record execution events\n",
        "==========================================\n",
        "\n",
        "The profiler is enabled through the context manager and accepts several\n",
        "parameters, some of the most useful are:\n",
        "\n",
        "-   `schedule` - callable that takes step (int) as a single parameter\n",
        "    and returns the profiler action to perform at each step.\n",
        "\n",
        "    In this example with `wait=1, warmup=1, active=3, repeat=1`,\n",
        "    profiler will skip the first step/iteration, start warming up on the\n",
        "    second, record the following three iterations, after which the trace\n",
        "    will become available and on\\_trace\\_ready (when set) is called. In\n",
        "    total, the cycle repeats once. Each cycle is called a \\\"span\\\" in\n",
        "    TensorBoard plugin.\n",
        "\n",
        "    During `wait` steps, the profiler is disabled. During `warmup`\n",
        "    steps, the profiler starts tracing but the results are discarded.\n",
        "    This is for reducing the profiling overhead. The overhead at the\n",
        "    beginning of profiling is high and easy to bring skew to the\n",
        "    profiling result. During `active` steps, the profiler works and\n",
        "    records events.\n",
        "\n",
        "-   `on_trace_ready` - callable that is called at the end of each cycle;\n",
        "    In this example we use `torch.profiler.tensorboard_trace_handler` to\n",
        "    generate result files for TensorBoard. After profiling, result files\n",
        "    will be saved into the `./log/resnet18` directory. Specify this\n",
        "    directory as a `logdir` parameter to analyze profile in TensorBoard.\n",
        "\n",
        "-   `record_shapes` - whether to record shapes of the operator inputs.\n",
        "\n",
        "-   `profile_memory` - Track tensor memory allocation/deallocation.\n",
        "    Note, for old version of pytorch with version before 1.10, if you\n",
        "    suffer long profiling time, please disable it or upgrade to new\n",
        "    version.\n",
        "\n",
        "-   `with_stack` - Record source information (file and line number) for\n",
        "    the ops. If the TensorBoard is launched in VS Code\n",
        "    ([reference](https://code.visualstudio.com/docs/datascience/pytorch-support#_tensorboard-integration)),\n",
        "    clicking a stack frame will navigate to the specific code line.\n"
      ]
    },
    {
      "cell_type": "code",
      "execution_count": 6,
      "metadata": {
        "id": "Nc16I3V5-VPd"
      },
      "outputs": [],
      "source": [
        "with torch.profiler.profile(\n",
        "        schedule=torch.profiler.schedule(wait=1, warmup=1, active=3, repeat=1),\n",
        "        on_trace_ready=torch.profiler.tensorboard_trace_handler('./log/resnet18'),\n",
        "        record_shapes=True,\n",
        "        profile_memory=True,\n",
        "        with_stack=True\n",
        ") as prof:\n",
        "    for step, batch_data in enumerate(train_loader):\n",
        "        prof.step()  # Need to call this at each step to notify profiler of steps' boundary.\n",
        "        if step >= 1 + 1 + 3:\n",
        "            break\n",
        "        train(batch_data)"
      ]
    },
    {
      "cell_type": "markdown",
      "metadata": {
        "id": "onlWTqHG-VPd"
      },
      "source": [
        "Alternatively, the following non-context manager start/stop is supported\n",
        "as well.\n"
      ]
    },
    {
      "cell_type": "code",
      "execution_count": 7,
      "metadata": {
        "id": "WA7FmkC0-VPd",
        "outputId": "1ae09190-3d5f-4715-877e-25eac67ba562",
        "colab": {
          "base_uri": "https://localhost:8080/",
          "height": 408
        }
      },
      "outputs": [
        {
          "output_type": "error",
          "ename": "RuntimeError",
          "evalue": "!stack.empty() INTERNAL ASSERT FAILED at \"/pytorch/torch/csrc/autograd/profiler_python.cpp\":983, please report a bug to PyTorch. Python replay stack is empty.",
          "traceback": [
            "\u001b[0;31m---------------------------------------------------------------------------\u001b[0m",
            "\u001b[0;31mRuntimeError\u001b[0m                              Traceback (most recent call last)",
            "\u001b[0;32m<ipython-input-7-3c173adcbc3b>\u001b[0m in \u001b[0;36m<cell line: 0>\u001b[0;34m()\u001b[0m\n\u001b[1;32m      6\u001b[0m \u001b[0mprof\u001b[0m\u001b[0;34m.\u001b[0m\u001b[0mstart\u001b[0m\u001b[0;34m(\u001b[0m\u001b[0;34m)\u001b[0m\u001b[0;34m\u001b[0m\u001b[0;34m\u001b[0m\u001b[0m\n\u001b[1;32m      7\u001b[0m \u001b[0;32mfor\u001b[0m \u001b[0mstep\u001b[0m\u001b[0;34m,\u001b[0m \u001b[0mbatch_data\u001b[0m \u001b[0;32min\u001b[0m \u001b[0menumerate\u001b[0m\u001b[0;34m(\u001b[0m\u001b[0mtrain_loader\u001b[0m\u001b[0;34m)\u001b[0m\u001b[0;34m:\u001b[0m\u001b[0;34m\u001b[0m\u001b[0;34m\u001b[0m\u001b[0m\n\u001b[0;32m----> 8\u001b[0;31m     \u001b[0mprof\u001b[0m\u001b[0;34m.\u001b[0m\u001b[0mstep\u001b[0m\u001b[0;34m(\u001b[0m\u001b[0;34m)\u001b[0m\u001b[0;34m\u001b[0m\u001b[0;34m\u001b[0m\u001b[0m\n\u001b[0m\u001b[1;32m      9\u001b[0m     \u001b[0;32mif\u001b[0m \u001b[0mstep\u001b[0m \u001b[0;34m>=\u001b[0m \u001b[0;36m1\u001b[0m \u001b[0;34m+\u001b[0m \u001b[0;36m1\u001b[0m \u001b[0;34m+\u001b[0m \u001b[0;36m3\u001b[0m\u001b[0;34m:\u001b[0m\u001b[0;34m\u001b[0m\u001b[0;34m\u001b[0m\u001b[0m\n\u001b[1;32m     10\u001b[0m         \u001b[0;32mbreak\u001b[0m\u001b[0;34m\u001b[0m\u001b[0;34m\u001b[0m\u001b[0m\n",
            "\u001b[0;32m/usr/local/lib/python3.11/dist-packages/torch/profiler/profiler.py\u001b[0m in \u001b[0;36mstep\u001b[0;34m(self)\u001b[0m\n\u001b[1;32m    819\u001b[0m         \u001b[0mself\u001b[0m\u001b[0;34m.\u001b[0m\u001b[0mcurrent_action\u001b[0m \u001b[0;34m=\u001b[0m \u001b[0mself\u001b[0m\u001b[0;34m.\u001b[0m\u001b[0mschedule\u001b[0m\u001b[0;34m(\u001b[0m\u001b[0mself\u001b[0m\u001b[0;34m.\u001b[0m\u001b[0mstep_num\u001b[0m\u001b[0;34m)\u001b[0m\u001b[0;34m\u001b[0m\u001b[0;34m\u001b[0m\u001b[0m\n\u001b[1;32m    820\u001b[0m \u001b[0;34m\u001b[0m\u001b[0m\n\u001b[0;32m--> 821\u001b[0;31m         \u001b[0mself\u001b[0m\u001b[0;34m.\u001b[0m\u001b[0m_transit_action\u001b[0m\u001b[0;34m(\u001b[0m\u001b[0mprev_action\u001b[0m\u001b[0;34m,\u001b[0m \u001b[0mself\u001b[0m\u001b[0;34m.\u001b[0m\u001b[0mcurrent_action\u001b[0m\u001b[0;34m)\u001b[0m\u001b[0;34m\u001b[0m\u001b[0;34m\u001b[0m\u001b[0m\n\u001b[0m\u001b[1;32m    822\u001b[0m         \u001b[0mprof\u001b[0m\u001b[0;34m.\u001b[0m\u001b[0mKinetoStepTracker\u001b[0m\u001b[0;34m.\u001b[0m\u001b[0mincrement_step\u001b[0m\u001b[0;34m(\u001b[0m\u001b[0mPROFILER_STEP_NAME\u001b[0m\u001b[0;34m)\u001b[0m\u001b[0;34m\u001b[0m\u001b[0;34m\u001b[0m\u001b[0m\n\u001b[1;32m    823\u001b[0m \u001b[0;34m\u001b[0m\u001b[0m\n",
            "\u001b[0;32m/usr/local/lib/python3.11/dist-packages/torch/profiler/profiler.py\u001b[0m in \u001b[0;36m_transit_action\u001b[0;34m(self, prev_action, current_action)\u001b[0m\n\u001b[1;32m    850\u001b[0m         \u001b[0;32mif\u001b[0m \u001b[0maction_list\u001b[0m\u001b[0;34m:\u001b[0m\u001b[0;34m\u001b[0m\u001b[0;34m\u001b[0m\u001b[0m\n\u001b[1;32m    851\u001b[0m             \u001b[0;32mfor\u001b[0m \u001b[0maction\u001b[0m \u001b[0;32min\u001b[0m \u001b[0maction_list\u001b[0m\u001b[0;34m:\u001b[0m\u001b[0;34m\u001b[0m\u001b[0;34m\u001b[0m\u001b[0m\n\u001b[0;32m--> 852\u001b[0;31m                 \u001b[0maction\u001b[0m\u001b[0;34m(\u001b[0m\u001b[0;34m)\u001b[0m\u001b[0;34m\u001b[0m\u001b[0;34m\u001b[0m\u001b[0m\n\u001b[0m\u001b[1;32m    853\u001b[0m \u001b[0;34m\u001b[0m\u001b[0m\n\u001b[1;32m    854\u001b[0m     \u001b[0;32mdef\u001b[0m \u001b[0m_stats\u001b[0m\u001b[0;34m(\u001b[0m\u001b[0mself\u001b[0m\u001b[0;34m)\u001b[0m \u001b[0;34m->\u001b[0m \u001b[0mOptional\u001b[0m\u001b[0;34m[\u001b[0m\u001b[0mprof\u001b[0m\u001b[0;34m.\u001b[0m\u001b[0m_ProfilerStats\u001b[0m\u001b[0;34m]\u001b[0m\u001b[0;34m:\u001b[0m\u001b[0;34m\u001b[0m\u001b[0;34m\u001b[0m\u001b[0m\n",
            "\u001b[0;32m/usr/local/lib/python3.11/dist-packages/torch/profiler/profiler.py\u001b[0m in \u001b[0;36mstop_trace\u001b[0;34m(self)\u001b[0m\n\u001b[1;32m    237\u001b[0m             \u001b[0mself\u001b[0m\u001b[0;34m.\u001b[0m\u001b[0mexecution_trace_observer\u001b[0m\u001b[0;34m.\u001b[0m\u001b[0mstop\u001b[0m\u001b[0;34m(\u001b[0m\u001b[0;34m)\u001b[0m\u001b[0;34m\u001b[0m\u001b[0;34m\u001b[0m\u001b[0m\n\u001b[1;32m    238\u001b[0m         \u001b[0;32massert\u001b[0m \u001b[0mself\u001b[0m\u001b[0;34m.\u001b[0m\u001b[0mprofiler\u001b[0m \u001b[0;32mis\u001b[0m \u001b[0;32mnot\u001b[0m \u001b[0;32mNone\u001b[0m\u001b[0;34m\u001b[0m\u001b[0;34m\u001b[0m\u001b[0m\n\u001b[0;32m--> 239\u001b[0;31m         \u001b[0mself\u001b[0m\u001b[0;34m.\u001b[0m\u001b[0mprofiler\u001b[0m\u001b[0;34m.\u001b[0m\u001b[0m__exit__\u001b[0m\u001b[0;34m(\u001b[0m\u001b[0;32mNone\u001b[0m\u001b[0;34m,\u001b[0m \u001b[0;32mNone\u001b[0m\u001b[0;34m,\u001b[0m \u001b[0;32mNone\u001b[0m\u001b[0;34m)\u001b[0m\u001b[0;34m\u001b[0m\u001b[0;34m\u001b[0m\u001b[0m\n\u001b[0m\u001b[1;32m    240\u001b[0m \u001b[0;34m\u001b[0m\u001b[0m\n\u001b[1;32m    241\u001b[0m     \u001b[0;32mdef\u001b[0m \u001b[0mexport_chrome_trace\u001b[0m\u001b[0;34m(\u001b[0m\u001b[0mself\u001b[0m\u001b[0;34m,\u001b[0m \u001b[0mpath\u001b[0m\u001b[0;34m:\u001b[0m \u001b[0mstr\u001b[0m\u001b[0;34m)\u001b[0m\u001b[0;34m:\u001b[0m\u001b[0;34m\u001b[0m\u001b[0;34m\u001b[0m\u001b[0m\n",
            "\u001b[0;32m/usr/local/lib/python3.11/dist-packages/torch/autograd/profiler.py\u001b[0m in \u001b[0;36m__exit__\u001b[0;34m(self, exc_type, exc_val, exc_tb)\u001b[0m\n\u001b[1;32m    376\u001b[0m         \u001b[0mt0\u001b[0m \u001b[0;34m=\u001b[0m \u001b[0mperf_counter_ns\u001b[0m\u001b[0;34m(\u001b[0m\u001b[0;34m)\u001b[0m\u001b[0;34m\u001b[0m\u001b[0;34m\u001b[0m\u001b[0m\n\u001b[1;32m    377\u001b[0m \u001b[0;34m\u001b[0m\u001b[0m\n\u001b[0;32m--> 378\u001b[0;31m         \u001b[0mself\u001b[0m\u001b[0;34m.\u001b[0m\u001b[0mkineto_results\u001b[0m \u001b[0;34m=\u001b[0m \u001b[0m_disable_profiler\u001b[0m\u001b[0;34m(\u001b[0m\u001b[0;34m)\u001b[0m\u001b[0;34m\u001b[0m\u001b[0;34m\u001b[0m\u001b[0m\n\u001b[0m\u001b[1;32m    379\u001b[0m         \u001b[0mt1\u001b[0m \u001b[0;34m=\u001b[0m \u001b[0mperf_counter_ns\u001b[0m\u001b[0;34m(\u001b[0m\u001b[0;34m)\u001b[0m\u001b[0;34m\u001b[0m\u001b[0;34m\u001b[0m\u001b[0m\n\u001b[1;32m    380\u001b[0m         \u001b[0mself\u001b[0m\u001b[0;34m.\u001b[0m\u001b[0m_stats\u001b[0m\u001b[0;34m.\u001b[0m\u001b[0mprofiler_disable_call_duration_us\u001b[0m \u001b[0;34m=\u001b[0m \u001b[0mint\u001b[0m\u001b[0;34m(\u001b[0m\u001b[0;34m(\u001b[0m\u001b[0mt1\u001b[0m \u001b[0;34m-\u001b[0m \u001b[0mt0\u001b[0m\u001b[0;34m)\u001b[0m \u001b[0;34m/\u001b[0m \u001b[0;36m1000\u001b[0m\u001b[0;34m)\u001b[0m\u001b[0;34m\u001b[0m\u001b[0;34m\u001b[0m\u001b[0m\n",
            "\u001b[0;31mRuntimeError\u001b[0m: !stack.empty() INTERNAL ASSERT FAILED at \"/pytorch/torch/csrc/autograd/profiler_python.cpp\":983, please report a bug to PyTorch. Python replay stack is empty."
          ]
        }
      ],
      "source": [
        "#prof = torch.profiler.profile(\n",
        "#        schedule=torch.profiler.schedule(wait=1, warmup=1, active=3, repeat=1),\n",
        "#        on_trace_ready=torch.profiler.tensorboard_trace_handler('./log/resnet18'),\n",
        "#        record_shapes=True,\n",
        "#        with_stack=True)\n",
        "#prof.start()\n",
        "#for step, batch_data in enumerate(train_loader):\n",
        "#    prof.step()\n",
        "#    if step >= 1 + 1 + 3:\n",
        "#        break\n",
        "#    train(batch_data)\n",
        "#prof.stop()"
      ]
    },
    {
      "cell_type": "markdown",
      "metadata": {
        "id": "o9m2farG-VPd"
      },
      "source": [
        "3. Run the profiler\n",
        "===================\n",
        "\n",
        "Run the above code. The profiling result will be saved under\n",
        "`./log/resnet18` directory.\n"
      ]
    },
    {
      "cell_type": "markdown",
      "metadata": {
        "id": "hEZhTYvL-VPd"
      },
      "source": [
        "4. Use TensorBoard to view results and analyze model performance\n",
        "================================================================\n",
        "\n",
        "<div style=\"background-color: #54c7ec; color: #fff; font-weight: 700; padding-left: 10px; padding-top: 5px; padding-bottom: 5px\"><strong>NOTE:</strong></div>\n",
        "\n",
        "<div style=\"background-color: #f3f4f7; padding-left: 10px; padding-top: 10px; padding-bottom: 10px; padding-right: 10px\">\n",
        "\n",
        "<p>TensorBoard Plugin support has been deprecated, so some of these functions may notwork as previously. Please take a look at the replacement, <a href=\"https://github.com/pytorch/kineto/tree/main#holistic-trace-analysis\">HTA</a>.</p>\n",
        "\n",
        "</div>\n",
        "\n",
        "Install PyTorch Profiler TensorBoard Plugin.\n",
        "\n",
        "``` {.}\n",
        "pip install torch_tb_profiler\n",
        "```\n"
      ]
    },
    {
      "cell_type": "markdown",
      "metadata": {
        "id": "FDf75bPt-VPd"
      },
      "source": [
        "Launch the TensorBoard.\n",
        "\n",
        "``` {.}\n",
        "tensorboard --logdir=./log\n",
        "```\n"
      ]
    },
    {
      "cell_type": "markdown",
      "metadata": {
        "id": "_isHRiDz-VPd"
      },
      "source": [
        "Open the TensorBoard profile URL in Google Chrome browser or Microsoft\n",
        "Edge browser (**Safari is not supported**).\n",
        "\n",
        "``` {.}\n",
        "http://localhost:6006/#pytorch_profiler\n",
        "```\n"
      ]
    },
    {
      "cell_type": "markdown",
      "metadata": {
        "id": "wOAgUaYo-VPd"
      },
      "source": [
        "You could see Profiler plugin page as shown below.\n",
        "\n",
        "\\- Overview .. image:: ../../\\_static/img/profiler\\_overview1.png\n",
        ":scale: 25 %\n",
        "\n",
        "The overview shows a high-level summary of model performance.\n",
        "\n",
        "The \\\"GPU Summary\\\" panel shows the GPU configuration, GPU usage and\n",
        "Tensor Cores usage. In this example, the GPU Utilization is low. The\n",
        "details of these metrics are\n",
        "[here](https://github.com/pytorch/kineto/blob/main/tb_plugin/docs/gpu_utilization.md).\n",
        "\n",
        "The \\\"Step Time Breakdown\\\" shows distribution of time spent in each\n",
        "step over different categories of execution. In this example, you can\n",
        "see the `DataLoader` overhead is significant.\n",
        "\n",
        "The bottom \\\"Performance Recommendation\\\" uses the profiling data to\n",
        "automatically highlight likely bottlenecks, and gives you actionable\n",
        "optimization suggestions.\n",
        "\n",
        "You can change the view page in left \\\"Views\\\" dropdown list.\n",
        "\n",
        "![](https://pytorch.org/tutorials/_static/img/profiler_views_list.png)\n",
        "\n",
        "\\- Operator view The operator view displays the performance of every\n",
        "PyTorch operator that is executed either on the host or device.\n",
        "\n",
        "![image](https://pytorch.org/tutorials/_static/img/profiler_operator_view.png)\n",
        "\n",
        "The \\\"Self\\\" duration does not include its child operators' time. The\n",
        "\\\"Total\\\" duration includes its child operators' time.\n",
        "\n",
        "\\- View call stack Click the `View Callstack` of an operator, the\n",
        "operators with same name but different call stacks will be shown. Then\n",
        "click a `View Callstack` in this sub-table, the call stack frames will\n",
        "be shown.\n",
        "\n",
        "![image](https://pytorch.org/tutorials/_static/img/profiler_callstack.png)\n",
        "\n",
        "If the TensorBoard is launched inside VS Code ([Launch\n",
        "Guide](https://devblogs.microsoft.com/python/python-in-visual-studio-code-february-2021-release/#tensorboard-integration)),\n",
        "clicking a call stack frame will navigate to the specific code line.\n",
        "\n",
        "![image](https://pytorch.org/tutorials/_static/img/profiler_vscode.png)\n",
        "\n",
        "\\- Kernel view The GPU kernel view shows all kernels' time spent on GPU.\n",
        "\n",
        "![image](https://pytorch.org/tutorials/_static/img/profiler_kernel_view.png)\n",
        "\n",
        "Tensor Cores Used: Whether this kernel uses Tensor Cores.\n",
        "\n",
        "Mean Blocks per SM: Blocks per SM = Blocks of this kernel / SM number of\n",
        "this GPU. If this number is less than 1, it indicates the GPU\n",
        "multiprocessors are not fully utilized. \\\"Mean Blocks per SM\\\" is\n",
        "weighted average of all runs of this kernel name, using each run's\n",
        "duration as weight.\n",
        "\n",
        "Mean Est. Achieved Occupancy: Est. Achieved Occupancy is defined in this\n",
        "column's tooltip. For most cases such as memory bandwidth bounded\n",
        "kernels, the higher the better. \\\"Mean Est. Achieved Occupancy\\\" is\n",
        "weighted average of all runs of this kernel name, using each run's\n",
        "duration as weight.\n",
        "\n",
        "\\- Trace view The trace view shows timeline of profiled operators and\n",
        "GPU kernels. You can select it to see details as below.\n",
        "\n",
        "![image](https://pytorch.org/tutorials/_static/img/profiler_trace_view1.png)\n",
        "\n",
        "You can move the graph and zoom in/out with the help of right side\n",
        "toolbar. And keyboard can also be used to zoom and move around inside\n",
        "the timeline. The 'w' and 's' keys zoom in centered around the mouse,\n",
        "and the 'a' and 'd' keys move the timeline left and right. You can hit\n",
        "these keys multiple times until you see a readable representation.\n",
        "\n",
        "If a backward operator\\'s \\\"Incoming Flow\\\" field is with value\n",
        "\\\"forward correspond to backward\\\", you can click the text to get its\n",
        "launching forward operator.\n",
        "\n",
        "![image](https://pytorch.org/tutorials/_static/img/profiler_trace_view_fwd_bwd.png)\n",
        "\n",
        "In this example, we can see the event prefixed with\n",
        "`enumerate(DataLoader)` costs a lot of time. And during most of this\n",
        "period, the GPU is idle. Because this function is loading data and\n",
        "transforming data on host side, during which the GPU resource is wasted.\n"
      ]
    },
    {
      "cell_type": "markdown",
      "metadata": {
        "id": "Y83b2jQt-VPd"
      },
      "source": [
        "5. Improve performance with the help of profiler\n",
        "================================================\n",
        "\n",
        "At the bottom of \\\"Overview\\\" page, the suggestion in \\\"Performance\n",
        "Recommendation\\\" hints the bottleneck is `DataLoader`. The PyTorch\n",
        "`DataLoader` uses single process by default. User could enable\n",
        "multi-process data loading by setting the parameter `num_workers`.\n",
        "[Here](https://pytorch.org/docs/stable/data.html#single-and-multi-process-data-loading)\n",
        "is more details.\n",
        "\n",
        "In this example, we follow the \\\"Performance Recommendation\\\" and set\n",
        "`num_workers` as below, pass a different name such as\n",
        "`./log/resnet18_4workers` to `tensorboard_trace_handler`, and run it\n",
        "again.\n",
        "\n",
        "``` {.}\n",
        "train_loader = torch.utils.data.DataLoader(train_set, batch_size=32, shuffle=True, num_workers=4)\n",
        "```\n"
      ]
    },
    {
      "cell_type": "markdown",
      "metadata": {
        "id": "SUQKx6y4-VPd"
      },
      "source": [
        "Then let's choose the recently profiled run in left \\\"Runs\\\" dropdown\n",
        "list.\n",
        "\n",
        "![image](https://pytorch.org/tutorials/_static/img/profiler_overview2.png)\n",
        "\n",
        "From the above view, we can find the step time is reduced to about 76ms\n",
        "comparing with previous run\\'s 132ms, and the time reduction of\n",
        "`DataLoader` mainly contributes.\n",
        "\n",
        "![image](https://pytorch.org/tutorials/_static/img/profiler_trace_view2.png)\n",
        "\n",
        "From the above view, we can see that the runtime of\n",
        "`enumerate(DataLoader)` is reduced, and the GPU utilization is\n",
        "increased.\n"
      ]
    },
    {
      "cell_type": "markdown",
      "metadata": {
        "id": "lyqo9UvF-VPd"
      },
      "source": [
        "6. Analyze performance with other advanced features\n",
        "===================================================\n",
        "\n",
        "\\- Memory view To profile memory, `profile_memory` must be set to `True`\n",
        "in arguments of `torch.profiler.profile`.\n",
        "\n",
        "You can try it by using existing example on Azure\n",
        "\n",
        "``` {.}\n",
        "pip install azure-storage-blob\n",
        "tensorboard --logdir=https://torchtbprofiler.blob.core.windows.net/torchtbprofiler/demo/memory_demo_1_10\n",
        "```\n",
        "\n",
        "The profiler records all memory allocation/release events and\n",
        "allocator\\'s internal state during profiling. The memory view consists\n",
        "of three components as shown in the following.\n",
        "\n",
        "![image](https://pytorch.org/tutorials/_static/img/profiler_memory_view.png)\n",
        "\n",
        "The components are memory curve graph, memory events table and memory\n",
        "statistics table, from top to bottom, respectively.\n",
        "\n",
        "The memory type could be selected in \\\"Device\\\" selection box. For\n",
        "example, \\\"GPU0\\\" means the following table only shows each operator\\'s\n",
        "memory usage on GPU 0, not including CPU or other GPUs.\n",
        "\n",
        "The memory curve shows the trends of memory consumption. The\n",
        "\\\"Allocated\\\" curve shows the total memory that is actually in use,\n",
        "e.g., tensors. In PyTorch, caching mechanism is employed in CUDA\n",
        "allocator and some other allocators. The \\\"Reserved\\\" curve shows the\n",
        "total memory that is reserved by the allocator. You can left click and\n",
        "drag on the graph to select events in the desired range:\n",
        "\n",
        "![image](https://pytorch.org/tutorials/_static/img/profiler_memory_curve_selecting.png)\n",
        "\n",
        "After selection, the three components will be updated for the restricted\n",
        "time range, so that you can gain more information about it. By repeating\n",
        "this process, you can zoom into a very fine-grained detail. Right click\n",
        "on the graph will reset the graph to the initial state.\n",
        "\n",
        "![image](https://pytorch.org/tutorials/_static/img/profiler_memory_curve_single.png)\n",
        "\n",
        "In the memory events table, the allocation and release events are paired\n",
        "into one entry. The \\\"operator\\\" column shows the immediate ATen\n",
        "operator that is causing the allocation. Notice that in PyTorch, ATen\n",
        "operators commonly use `aten::empty` to allocate memory. For example,\n",
        "`aten::ones` is implemented as `aten::empty` followed by an\n",
        "`aten::fill_`. Solely display the operator name as `aten::empty` is of\n",
        "little help. It will be shown as `aten::ones (aten::empty)` in this\n",
        "special case. The \\\"Allocation Time\\\", \\\"Release Time\\\" and \\\"Duration\\\"\n",
        "columns\\' data might be missing if the event occurs outside of the time\n",
        "range.\n",
        "\n",
        "In the memory statistics table, the \\\"Size Increase\\\" column sums up all\n",
        "allocation size and minus all the memory release size, that is, the net\n",
        "increase of memory usage after this operator. The \\\"Self Size Increase\\\"\n",
        "column is similar to \\\"Size Increase\\\", but it does not count children\n",
        "operators\\' allocation. With regards to ATen operators\\' implementation\n",
        "detail, some operators might call other operators, so memory allocations\n",
        "can happen at any level of the call stack. That says, \\\"Self Size\n",
        "Increase\\\" only count the memory usage increase at current level of call\n",
        "stack. Finally, the \\\"Allocation Size\\\" column sums up all allocation\n",
        "without considering the memory release.\n",
        "\n",
        "\\- Distributed view The plugin now supports distributed view on\n",
        "profiling DDP with NCCL/GLOO as backend.\n",
        "\n",
        "You can try it by using existing example on Azure:\n",
        "\n",
        "``` {.}\n",
        "pip install azure-storage-blob\n",
        "tensorboard --logdir=https://torchtbprofiler.blob.core.windows.net/torchtbprofiler/demo/distributed_bert\n",
        "```\n",
        "\n",
        "![image](https://pytorch.org/tutorials/_static/img/profiler_distributed_view.png)\n",
        "\n",
        "The \\\"Computation/Communication Overview\\\" shows\n",
        "computation/communication ratio and their overlapping degree. From this\n",
        "view, User can figure out load balance issue among workers. For example,\n",
        "if the computation + overlapping time of one worker is much larger than\n",
        "others, there may be a problem of load balance or this worker may be a\n",
        "straggler.\n",
        "\n",
        "The \\\"Synchronizing/Communication Overview\\\" shows the efficiency of\n",
        "communication. \\\"Data Transfer Time\\\" is the time for actual data\n",
        "exchanging. \\\"Synchronizing Time\\\" is the time for waiting and\n",
        "synchronizing with other workers.\n",
        "\n",
        "If one worker's \\\"Synchronizing Time\\\" is much shorter than that of\n",
        "other workers', this worker may be a straggler which may have more\n",
        "computation workload than other workers'.\n",
        "\n",
        "The \\\"Communication Operations Stats\\\" summarizes the detailed\n",
        "statistics of all communication ops in each worker.\n"
      ]
    },
    {
      "cell_type": "markdown",
      "metadata": {
        "id": "cadORegd-VPe"
      },
      "source": [
        "7. Additional Practices: Profiling PyTorch on AMD GPUs\n",
        "======================================================\n",
        "\n",
        "The AMD ROCm Platform is an open-source software stack designed for GPU\n",
        "computation, consisting of drivers, development tools, and APIs. We can\n",
        "run the above mentioned steps on AMD GPUs. In this section, we will use\n",
        "Docker to install the ROCm base development image before installing\n",
        "PyTorch.\n"
      ]
    },
    {
      "cell_type": "markdown",
      "metadata": {
        "id": "rj-4KLH7-VPe"
      },
      "source": [
        "For the purpose of example, let\\'s create a directory called\n",
        "`profiler_tutorial`, and save the code in **Step 1** as\n",
        "`test_cifar10.py` in this directory.\n",
        "\n",
        "``` {.}\n",
        "mkdir ~/profiler_tutorial\n",
        "cd profiler_tutorial\n",
        "vi test_cifar10.py\n",
        "```\n"
      ]
    },
    {
      "cell_type": "markdown",
      "metadata": {
        "id": "11CjlwQS-VPe"
      },
      "source": [
        "At the time of this writing, the Stable(`2.1.1`) Linux version of\n",
        "PyTorch on ROCm Platform is [ROCm\n",
        "5.6](https://pytorch.org/get-started/locally/).\n",
        "\n",
        "-   Obtain a base Docker image with the correct user-space ROCm version\n",
        "    installed from [Docker\n",
        "    Hub](https://hub.docker.com/repository/docker/rocm/dev-ubuntu-20.04).\n",
        "\n",
        "It is `rocm/dev-ubuntu-20.04:5.6`.\n",
        "\n",
        "-   Start the ROCm base Docker container:\n",
        "\n",
        "``` {.}\n",
        "docker run -it --network=host --device=/dev/kfd --device=/dev/dri --group-add=video --ipc=host --cap-add=SYS_PTRACE --security-opt seccomp=unconfined --shm-size 8G -v ~/profiler_tutorial:/profiler_tutorial rocm/dev-ubuntu-20.04:5.6\n",
        "```\n",
        "\n",
        "-   Inside the container, install any dependencies needed for installing\n",
        "    the wheels package.\n",
        "\n",
        "``` {.}\n",
        "sudo apt update\n",
        "sudo apt install libjpeg-dev python3-dev -y\n",
        "pip3 install wheel setuptools\n",
        "sudo apt install python-is-python3\n",
        "```\n",
        "\n",
        "-   Install the wheels:\n",
        "\n",
        "``` {.}\n",
        "pip3 install torch torchvision torchaudio --index-url https://download.pytorch.org/whl/rocm5.6\n",
        "```\n",
        "\n",
        "-   Install the `torch_tb_profiler`, and then, run the Python file\n",
        "    `test_cifar10.py`:\n",
        "\n",
        "``` {.}\n",
        "pip install torch_tb_profiler\n",
        "cd /profiler_tutorial\n",
        "python test_cifar10.py\n",
        "```\n",
        "\n",
        "Now, we have all the data needed to view in TensorBoard:\n",
        "\n",
        "``` {.}\n",
        "tensorboard --logdir=./log\n",
        "```\n",
        "\n",
        "Choose different views as described in **Step 4**. For example, below is\n",
        "the **Operator** View:\n",
        "\n",
        "![image](https://pytorch.org/tutorials/_static/img/profiler_rocm_tensorboard_operartor_view.png)\n"
      ]
    },
    {
      "cell_type": "markdown",
      "metadata": {
        "id": "7bDevlXW-VPe"
      },
      "source": [
        "At the time this section is written, **Trace** view does not work and it\n",
        "displays nothing. You can work around by typing `chrome://tracing` in\n",
        "your Chrome Browser.\n",
        "\n",
        "\\- Copy the `trace.json` file under `~/profiler_tutorial/log/resnet18`\n",
        "directory to the Windows. You may need to copy the file by using `scp`\n",
        "if the file is located in a remote location.\n",
        "\n",
        "-   Click **Load** button to load the trace JSON file from the\n",
        "    `chrome://tracing` page in the browser.\n",
        "\n",
        "![image](https://pytorch.org/tutorials/_static/img/profiler_rocm_chrome_trace_view.png)\n"
      ]
    },
    {
      "cell_type": "markdown",
      "metadata": {
        "id": "1cgG_8FK-VPe"
      },
      "source": [
        "As mentioned previously, you can move the graph and zoom in and out. You\n",
        "can also use keyboard to zoom and move around inside the timeline. The\n",
        "`w` and `s` keys zoom in centered around the mouse, and the `a` and `d`\n",
        "keys move the timeline left and right. You can hit these keys multiple\n",
        "times until you see a readable representation.\n"
      ]
    },
    {
      "cell_type": "markdown",
      "metadata": {
        "id": "fCpEAHTS-VPe"
      },
      "source": [
        "Learn More\n",
        "==========\n",
        "\n",
        "Take a look at the following documents to continue your learning, and\n",
        "feel free to open an issue\n",
        "[here](https://github.com/pytorch/kineto/issues).\n",
        "\n",
        "-   [PyTorch TensorBoard Profiler\n",
        "    Github](https://github.com/pytorch/kineto/tree/master/tb_plugin)\n",
        "-   [torch.profiler API](https://pytorch.org/docs/master/profiler.html)\n",
        "-   [HTA](https://github.com/pytorch/kineto/tree/main#holistic-trace-analysis)\n"
      ]
    }
  ],
  "metadata": {
    "kernelspec": {
      "display_name": "Python 3",
      "name": "python3"
    },
    "language_info": {
      "codemirror_mode": {
        "name": "ipython",
        "version": 3
      },
      "file_extension": ".py",
      "mimetype": "text/x-python",
      "name": "python",
      "nbconvert_exporter": "python",
      "pygments_lexer": "ipython3",
      "version": "3.10.12"
    },
    "colab": {
      "provenance": [],
      "gpuType": "T4"
    },
    "accelerator": "GPU"
  },
  "nbformat": 4,
  "nbformat_minor": 0
}